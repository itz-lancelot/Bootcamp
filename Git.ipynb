{
 "cells": [
  {
   "attachments": {},
   "cell_type": "markdown",
   "id": "eebedb0a",
   "metadata": {},
   "source": [
    "# Git\n",
    "\n",
    "Git is a distributed version control system that is used to track changes in files and directories over time. It was created by Linus Torvalds in 2005 for the development of the Linux kernel. Git is a free and open-source tool that provides a way to collaborate on code changes and manage multiple versions of the same codebase.\n",
    "\n",
    "## Installing Git\n",
    "\n",
    "To install Git on your computer, follow these steps:\n",
    "- Go to the Git website: https://git-scm.com/\n",
    "- Click the \"Download\" button.\n",
    "- Follow the installation instructions for your operating system.\n",
    "\n",
    "## Setting up Git\n",
    "\n",
    "Once Git is installed on your computer, you need to set up your user name and email address. This information is used to identify the author of each commit. To set up Git, open the command prompt or terminal and enter the following commands:"
   ]
  },
  {
   "cell_type": "code",
   "execution_count": null,
   "id": "d862daf4",
   "metadata": {},
   "outputs": [],
   "source": [
    "git config --global user.name \"Your Name\"\n",
    "git config --global user.email \"youremail@example.com\""
   ]
  },
  {
   "attachments": {},
   "cell_type": "markdown",
   "id": "52b79391",
   "metadata": {},
   "source": [
    "## Creating a Repository\n",
    "\n",
    "To create a Git repository, follow these steps:\n",
    "\n",
    "- Open the command prompt or terminal.\n",
    "- Navigate to the directory where you want to create the repository.\n",
    "- Enter the following command:"
   ]
  },
  {
   "cell_type": "code",
   "execution_count": null,
   "id": "1bcaa775",
   "metadata": {},
   "outputs": [],
   "source": [
    "git init"
   ]
  },
  {
   "attachments": {},
   "cell_type": "markdown",
   "id": "8530958a",
   "metadata": {},
   "source": [
    "This will create a new Git repository in the current directory."
   ]
  },
  {
   "attachments": {},
   "cell_type": "markdown",
   "id": "cdbd62cf",
   "metadata": {},
   "source": [
    "## Staging Area\n",
    "\n",
    "To know whether the files you have in your .git(hidden folder) directory are staged(green) or unstaged(red), follow the coomannd:"
   ]
  },
  {
   "cell_type": "code",
   "execution_count": null,
   "id": "3491942c",
   "metadata": {},
   "outputs": [],
   "source": [
    "git status"
   ]
  },
  {
   "attachments": {},
   "cell_type": "markdown",
   "id": "b34f5669",
   "metadata": {},
   "source": [
    "## Git Workflow\n",
    "\n",
    "The basic Git workflow involves three stages:\n",
    "\n",
    "- Working Directory: This is the directory where you are currently working on your project.\n",
    "- Staging Area: This is where you can add files that you want to commit.\n",
    "- Repository: This is where Git stores the history of your changes.\n",
    "\n",
    "To add changes to the staging area, use the following command:"
   ]
  },
  {
   "cell_type": "code",
   "execution_count": null,
   "id": "b37e79db",
   "metadata": {},
   "outputs": [],
   "source": [
    "git add . \n",
    "OR\n",
    "git add <filename1> <filename2>"
   ]
  },
  {
   "attachments": {},
   "cell_type": "markdown",
   "id": "3df993e4",
   "metadata": {},
   "source": [
    "To commit changes to the repository, use the following command:"
   ]
  },
  {
   "cell_type": "code",
   "execution_count": null,
   "id": "dc26b286",
   "metadata": {},
   "outputs": [],
   "source": [
    "git commit -m \"Commit message\""
   ]
  },
  {
   "attachments": {},
   "cell_type": "markdown",
   "id": "93333ea7",
   "metadata": {},
   "source": [
    "## Github Workflow\n",
    "\n",
    "Create your github account and create a new repository and click your new repository.\\\n",
    "Add your repository url to .git\\\n",
    "To push an existing repository in the command line, enter the folowing command:"
   ]
  },
  {
   "cell_type": "code",
   "execution_count": null,
   "id": "b3bd57fd",
   "metadata": {},
   "outputs": [],
   "source": [
    "git remote add origin https://github.com/.....url.....                  #copy the url from your github repository \n",
    "\n",
    "git add .\n",
    "OR \n",
    "git add <filename1> <filename2>"
   ]
  },
  {
   "attachments": {},
   "cell_type": "markdown",
   "id": "2dc20645",
   "metadata": {},
   "source": [
    "Above command is same as git workflow and you can check the staged file status by entering followinmg command"
   ]
  },
  {
   "cell_type": "code",
   "execution_count": null,
   "id": "08dbc2c8",
   "metadata": {},
   "outputs": [],
   "source": [
    "git status"
   ]
  },
  {
   "attachments": {},
   "cell_type": "markdown",
   "id": "d5006bb6",
   "metadata": {},
   "source": [
    "After making sure the files are staged(green) enter the following command:"
   ]
  },
  {
   "cell_type": "code",
   "execution_count": null,
   "id": "4b4da20d",
   "metadata": {},
   "outputs": [],
   "source": [
    "git commit -m \"Commit message\""
   ]
  },
  {
   "attachments": {},
   "cell_type": "markdown",
   "id": "097fa458",
   "metadata": {},
   "source": [
    "To push the commited files into the github repository, enter the following command:"
   ]
  },
  {
   "cell_type": "code",
   "execution_count": null,
   "id": "27a26e55",
   "metadata": {},
   "outputs": [],
   "source": [
    "git push -u origin main"
   ]
  }
 ],
 "metadata": {
  "kernelspec": {
   "display_name": "Python 3 (ipykernel)",
   "language": "python",
   "name": "python3"
  },
  "language_info": {
   "codemirror_mode": {
    "name": "ipython",
    "version": 3
   },
   "file_extension": ".py",
   "mimetype": "text/x-python",
   "name": "python",
   "nbconvert_exporter": "python",
   "pygments_lexer": "ipython3",
   "version": "3.11.4"
  }
 },
 "nbformat": 4,
 "nbformat_minor": 5
}
